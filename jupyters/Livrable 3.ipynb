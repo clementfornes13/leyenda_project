{
    "cells": [
        {
            "cell_type": "markdown",
            "id": "a882376f",
            "metadata": {},
            "source": [
                "# Livrable 3 – Image Captioning\n",
                "\n",
                "**Objectif :** Construire un modèle CNN–RNN avec attention pour générer des légendes sur MS COCO.\n",
                "\n",
                "Le réseau est composé de :\n",
                "- Un **encodeur CNN** (InceptionV3 pré‑entraîné) qui transforme l’image en représentations visuelles,\n",
                "- Un **décodeur RNN** (GRU + Attention) qui génère la légende mot à mot."
            ]
        },
        {
            "cell_type": "markdown",
            "id": "7115fcde",
            "metadata": {},
            "source": [
                "#  Importation des bibliothèques et définition des constantes\n",
                "On commence par importer les bibliothèques nécessaires et définir les constantes globales pour l'entraînement et les chemins d'accès à MS COCO\n",
                "\n",
                "(On a choisi 64 en Batch Size)"
            ]
        },
        {
            "cell_type": "code",
            "execution_count": 3,
            "id": "5267ae44",
            "metadata": {},
            "outputs": [],
            "source": [
                "import numpy as np\n",
                "from tqdm import tqdm\n",
                "import tensorflow as tf\n",
                "import os, json, collections\n",
                "import matplotlib.pyplot as plt\n",
                "from tensorflow.keras import Model\n",
                "from rouge_score import rouge_scorer\n",
                "from nltk.translate.bleu_score import corpus_bleu\n",
                "from tensorflow.keras.preprocessing.text import Tokenizer\n",
                "from tensorflow.keras.layers import Dense, Embedding, GRU\n",
                "from tensorflow.keras.preprocessing.sequence import pad_sequences\n",
                "from tensorflow.keras.applications.inception_v3 import InceptionV3, preprocess_input\n",
                "\n",
                "\n",
                "BASE_DIR       = \"../\"\n",
                "COCO_DIR       = os.path.join(BASE_DIR, 'datasets', 'coco')\n",
                "ANN_DIR        = os.path.join(COCO_DIR, 'annotations')\n",
                "IMG_TRAIN_DIR  = os.path.join(COCO_DIR, 'images', 'train2014')\n",
                "IMG_VAL_DIR    = os.path.join(COCO_DIR, 'images', 'val2014')\n",
                "\n",
                "BATCH_SIZE   = 64\n",
                "BUFFER_SIZE  = 1000\n",
                "EMBED_DIM    = 256\n",
                "UNITS        = 512\n",
                "VOCAB_SIZE   = 5000\n",
                "MAX_LENGTH   = 50\n",
                "EPOCHS       = 20\n",
                "FEATURE_SHAPE = 64"
            ]
        },
        {
            "cell_type": "markdown",
            "id": "15c3424c",
            "metadata": {},
            "source": [
                "# Chargement des annotations et préparation des chemins d'images\n",
                "On charge les fichiers JSON d’annotations du dataset COCO, et on réalise le regroupement des légendes par image"
            ]
        },
        {
            "cell_type": "code",
            "execution_count": 4,
            "id": "d486d2b1",
            "metadata": {},
            "outputs": [
                {
                    "name": "stdout",
                    "output_type": "stream",
                    "text": [
                        "82783 images, 414113 captions\n"
                    ]
                }
            ],
            "source": [
                "with open(os.path.join(ANN_DIR, 'captions_train2014.json'), 'r') as f:\n",
                "    ann = json.load(f)\n",
                "\n",
                "# image_id → nom de fichier\n",
                "id2file = {img['id']: img['file_name'] for img in ann['images']}\n",
                "\n",
                "# Regrouper les captions par chemin complet\n",
                "cap_dict = collections.defaultdict(list)\n",
                "for a in ann['annotations']:\n",
                "    fname = id2file[a['image_id']]\n",
                "    path  = os.path.join(IMG_TRAIN_DIR, fname)\n",
                "    cap   = '<start> ' + a['caption'].lower().strip() + ' <end>'\n",
                "    cap_dict[path].append(cap)\n",
                "\n",
                "# Listes finales\n",
                "all_image_paths = list(cap_dict.keys())\n",
                "all_captions    = [c for caps in cap_dict.values() for c in caps]\n",
                "\n",
                "print(f\"{len(all_image_paths)} images, {len(all_captions)} captions\")"
            ]
        },
        {
            "cell_type": "markdown",
            "id": "a9286094",
            "metadata": {},
            "source": [
                "# Réduction du dataset pour un entraînement plus rapide\n",
                "Réduction volontaire du nombre d’images à 10 000 pour limiter les besoins en GPU et accélérer l'entraînement."
            ]
        },
        {
            "cell_type": "code",
            "execution_count": 5,
            "id": "1b642383",
            "metadata": {},
            "outputs": [
                {
                    "name": "stdout",
                    "output_type": "stream",
                    "text": [
                        "Nombre d'images pour le test : 10000\n",
                        "Nombre de captions associées : 50020\n"
                    ]
                }
            ],
            "source": [
                "# Cellule 2 bis - à effacer si vous voulez lancer l'entrainement avec toute les images (j'espère que vous avez un bon GPU si vous le faite)\n",
                "\n",
                "# on ne prend que 10 000 images car pas assez de GPUUUUUUUUUUUU on a des MAAAAC !!\n",
                "selected_image_paths = all_image_paths[:10000]\n",
                "\n",
                "# On recrée cap_dict uniquement pour ces images\n",
                "cap_dict = {path: cap_dict[path] for path in selected_image_paths}\n",
                "\n",
                "# mise à jour all_image_paths et all_captions \n",
                "all_image_paths = selected_image_paths\n",
                "all_captions    = [c for caps in cap_dict.values() for c in caps]\n",
                "\n",
                "print(\"Nombre d'images pour le test :\", len(all_image_paths))\n",
                "print(\"Nombre de captions associées :\", len(all_captions))"
            ]
        },
        {
            "cell_type": "code",
            "execution_count": 6,
            "id": "d8507d43",
            "metadata": {},
            "outputs": [
                {
                    "name": "stdout",
                    "output_type": "stream",
                    "text": [
                        "Exemple : <start> a very clean and well decorated empty bathroom <end> → [  3   2  85 121   7 385 270 157  11   4   0   0   0   0   0   0   0   0\n",
                        "   0   0   0   0   0   0   0   0   0   0   0   0   0   0   0   0   0   0\n",
                        "   0   0   0   0   0   0   0   0   0   0   0   0   0   0]\n"
                    ]
                }
            ],
            "source": [
                "tokenizer = Tokenizer(\n",
                "    num_words=VOCAB_SIZE,\n",
                "    oov_token='<unk>',\n",
                "    filters='!\"#$%&()*+.,-/:;?@[\\]^_`{|}~ '\n",
                ")\n",
                "tokenizer.fit_on_texts(all_captions)\n",
                "\n",
                "# reservation de l'indice 0 pour <pad>\n",
                "tokenizer.word_index['<pad>'] = 0\n",
                "tokenizer.index_word[0]   = '<pad>'\n",
                "\n",
                "# Conversion des légendes en séquences d'indices et padding\n",
                "cap_seqs = tokenizer.texts_to_sequences(all_captions)\n",
                "cap_seqs = pad_sequences(cap_seqs, maxlen=MAX_LENGTH, padding='post')\n",
                "\n",
                "print(\"Exemple :\", all_captions[0], \"→\", cap_seqs[0])"
            ]
        },
        {
            "cell_type": "markdown",
            "id": "745ee208",
            "metadata": {},
            "source": [
                "# Extraction des caractéristiques visuelles avec InceptionV3\n",
                "On utilise ici un CNN pré-entraîné (InceptionV3) pour extraire les caractéristiques visuelles des images et les sauvegarder au format `.npy`.\n"
            ]
        },
        {
            "cell_type": "code",
            "execution_count": null,
            "id": "f312b8fc",
            "metadata": {},
            "outputs": [],
            "source": [
                "# Chargement d'InceptionV3 \n",
                "image_model = InceptionV3(include_top=False, weights='imagenet')\n",
                "new_input = tf.keras.Input(shape=(299, 299, 3))\n",
                "hidden_layer = image_model(new_input)  # sortie : (batch, 8, 8, 2048)\n",
                "feat_extract_model = Model(inputs=new_input, outputs=hidden_layer)\n",
                "\n",
                "# Fonction de chargement et pré‑traitement d'une image\n",
                "def load_image(path):\n",
                "    img = tf.io.read_file(path)\n",
                "    img = tf.image.decode_jpeg(img, channels=3)\n",
                "    img = tf.image.resize(img, (299, 299))\n",
                "    img = preprocess_input(img)\n",
                "    return img, path\n",
                "\n",
                "# Création du dataset d'images pré‑traitées\n",
                "image_ds = tf.data.Dataset.from_tensor_slices(all_image_paths)\n",
                "image_ds = image_ds.map(load_image, num_parallel_calls=tf.data.experimental.AUTOTUNE)\n",
                "image_ds = image_ds.batch(BATCH_SIZE)\n",
                "\n",
                "# Extraction et sauvegarde des représentations\n",
                "for img_batch, path_batch in tqdm(image_ds):\n",
                "    # Extraction features : (bs, 8,8,2048) → reshape (bs, 64, 2048)\n",
                "    batch_features = feat_extract_model(img_batch)\n",
                "    batch_features = tf.reshape(batch_features, \n",
                "                                (batch_features.shape[0], -1, batch_features.shape[3]))\n",
                "    # Sauvegarde .npy pour chaque image\n",
                "    for bf, p in zip(batch_features, path_batch.numpy()):\n",
                "        np.save(p.decode('utf-8'), bf.numpy())"
            ]
        },
        {
            "cell_type": "markdown",
            "id": "d47580d3",
            "metadata": {},
            "source": [
                "# Création du dataset TensorFlow pour l’entraînement\n",
                "On Prépare le dataset combinant les vecteurs d’images et les légendes qui correspondent aux images\n"
            ]
        },
        {
            "cell_type": "code",
            "execution_count": 8,
            "id": "2ad2cb5e",
            "metadata": {},
            "outputs": [
                {
                    "name": "stdout",
                    "output_type": "stream",
                    "text": [
                        "Dataset prêt : <_PrefetchDataset element_spec=(TensorSpec(shape=<unknown>, dtype=tf.float32, name=None), TensorSpec(shape=<unknown>, dtype=tf.int32, name=None))>\n"
                    ]
                }
            ],
            "source": [
                "def map_func(img_path, cap):\n",
                "    img_tensor = np.load(img_path.decode('utf-8') + '.npy')\n",
                "    return img_tensor, cap\n",
                "\n",
                "# Construction listes de chemins et séquences de captions\n",
                "img_name_vector = []\n",
                "cap_vector      = []\n",
                "\n",
                "for img_path, caps in cap_dict.items():\n",
                "    img_name_vector.extend([img_path] * len(caps))\n",
                "    cap_vector.extend(caps)\n",
                "\n",
                "# Conversion les captions en séquences et appliquer le padding\n",
                "cap_seqs = tokenizer.texts_to_sequences(cap_vector)\n",
                "cap_seqs = pad_sequences(cap_seqs, maxlen=MAX_LENGTH, padding='post')\n",
                "\n",
                "# Création et optimisation du tf.data.Dataset\n",
                "dataset = tf.data.Dataset.from_tensor_slices((img_name_vector, cap_seqs))\n",
                "dataset = dataset.map(\n",
                "    lambda x, y: tf.numpy_function(map_func, [x, y], [tf.float32, tf.int32]),\n",
                "    num_parallel_calls=tf.data.experimental.AUTOTUNE\n",
                ")\n",
                "dataset = dataset.shuffle(BUFFER_SIZE).batch(BATCH_SIZE).prefetch(tf.data.experimental.AUTOTUNE)\n",
                "\n",
                "print(\"Dataset prêt :\", dataset)"
            ]
        },
        {
            "cell_type": "markdown",
            "id": "cbbe13d2",
            "metadata": {},
            "source": [
                "# Définition du modèle : Encodeur CNN, Attention Bahdanau et Décodeur RNN\n",
                "Implémentation des différentes composantes du modèle : l’encodeur extrait les features, l’attention pondère ces features, et le décodeur génère les mots de la légende."
            ]
        },
        {
            "cell_type": "code",
            "execution_count": 10,
            "id": "2735a8b4",
            "metadata": {},
            "outputs": [],
            "source": [
                "# Instanciation de l'encodeur\n",
                "class CNN_Encoder(Model):\n",
                "    def __init__(self, embed_dim):\n",
                "        super().__init__()\n",
                "        self.fc = Dense(embed_dim)\n",
                "    def call(self, x):\n",
                "        return tf.nn.relu(self.fc(x)) \n",
                "\n",
                "# Instanciation de l'attention Bahdanau\n",
                "class BahdanauAttention(Model):\n",
                "    def __init__(self, units):\n",
                "        super().__init__()\n",
                "        self.W1 = Dense(units)\n",
                "        self.W2 = Dense(units)\n",
                "        self.V  = Dense(1)\n",
                "    def call(self, features, hidden):\n",
                "        hidden_time = tf.expand_dims(hidden, 1)                      # (batch,1,units)\n",
                "        score       = tf.nn.tanh(self.W1(features) + self.W2(hidden_time))\n",
                "        weights     = tf.nn.softmax(self.V(score), axis=1)           # (batch,64,1)\n",
                "        context     = tf.reduce_sum(weights * features, axis=1)      # (batch,units)\n",
                "        return context, weights\n",
                "\n",
                "# Instanciation du décodeur\n",
                "class RNN_Decoder(Model):\n",
                "    def __init__(self, vocab_size, embed_dim, units):\n",
                "        super().__init__()\n",
                "        self.units     = units\n",
                "        self.embedding = Embedding(vocab_size, embed_dim)\n",
                "        self.gru       = GRU(units,\n",
                "                             return_sequences=True,\n",
                "                             return_state=True,\n",
                "                             recurrent_initializer='glorot_uniform',\n",
                "                             unroll=True)\n",
                "        self.fc1       = Dense(units)\n",
                "        self.fc2       = Dense(vocab_size)\n",
                "        self.attention = BahdanauAttention(units)\n",
                "\n",
                "    def call(self, x, features, hidden):\n",
                "        # calcul de l'attention\n",
                "        context, att_w = self.attention(features, hidden)            # (batch,units) \n",
                "        x = self.embedding(x)                                        # (batch,1,embed_dim)\n",
                "        x = tf.concat([tf.expand_dims(context,1), x], axis=-1)       # (batch,1,embed_dim+units)\n",
                "        output, state = self.gru(x, initial_state=hidden)            # (batch,1,units), (batch,units)\n",
                "        x = self.fc1(output)                                         # (batch,1,units)\n",
                "        x = tf.reshape(x, (-1, x.shape[2]))                          # (batch,units)\n",
                "        x = self.fc2(x)                                              # (batch,vocab_size)\n",
                "        return x, state, att_w\n",
                "\n",
                "    def reset_state(self, batch_size):\n",
                "        return tf.zeros((batch_size, self.units))\n",
                "\n",
                "# (Re)instanciation\n",
                "encoder     = CNN_Encoder(EMBED_DIM)\n",
                "decoder     = RNN_Decoder(VOCAB_SIZE, EMBED_DIM, UNITS)\n",
                "optimizer   = tf.keras.optimizers.Adam()\n",
                "loss_object = tf.keras.losses.SparseCategoricalCrossentropy(from_logits=True, reduction='none')\n",
                "\n",
                "def loss_function(real, pred):\n",
                "    mask = tf.math.logical_not(tf.math.equal(real, 0))\n",
                "    loss_ = loss_object(real, pred)\n",
                "    return tf.reduce_mean(loss_ * tf.cast(mask, loss_.dtype))"
            ]
        },
        {
            "cell_type": "markdown",
            "id": "0a4386ed",
            "metadata": {},
            "source": [
                "# Entraînement du modèle\n",
                "Boucle d'entraînement sur 20 époques, avec calcul de la loss et mise à jour des poids à chaque batch"
            ]
        },
        {
            "cell_type": "code",
            "execution_count": null,
            "id": "a3d0d247",
            "metadata": {},
            "outputs": [
                {
                    "name": "stderr",
                    "output_type": "stream",
                    "text": [
                        "Epoch 1/20: 100%|██████████| 782/782 [14:34<00:00,  1.26s/it]2025-04-22 10:56:28.052536: W tensorflow/core/framework/local_rendezvous.cc:404] Local rendezvous is aborting with status: OUT_OF_RANGE: End of sequence\n",
                        "Epoch 1/20: 100%|██████████| 782/782 [14:34<00:00,  1.12s/it]\n"
                    ]
                },
                {
                    "name": "stdout",
                    "output_type": "stream",
                    "text": [
                        "Epoch 1, Loss moyenne : 0.8059\n"
                    ]
                },
                {
                    "name": "stderr",
                    "output_type": "stream",
                    "text": [
                        "Epoch 2/20: 100%|██████████| 782/782 [14:18<00:00,  1.17s/it]2025-04-22 11:10:46.646331: W tensorflow/core/framework/local_rendezvous.cc:404] Local rendezvous is aborting with status: OUT_OF_RANGE: End of sequence\n",
                        "Epoch 2/20: 100%|██████████| 782/782 [14:18<00:00,  1.10s/it]\n"
                    ]
                },
                {
                    "name": "stdout",
                    "output_type": "stream",
                    "text": [
                        "Epoch 2, Loss moyenne : 0.6308\n"
                    ]
                },
                {
                    "name": "stderr",
                    "output_type": "stream",
                    "text": [
                        "Epoch 3/20: 100%|██████████| 782/782 [39:24<00:00,  6.27s/it]  2025-04-22 11:50:10.814377: W tensorflow/core/framework/local_rendezvous.cc:404] Local rendezvous is aborting with status: OUT_OF_RANGE: End of sequence\n",
                        "Epoch 3/20: 100%|██████████| 782/782 [39:24<00:00,  3.02s/it]\n"
                    ]
                },
                {
                    "name": "stdout",
                    "output_type": "stream",
                    "text": [
                        "Epoch 3, Loss moyenne : 0.5679\n"
                    ]
                },
                {
                    "name": "stderr",
                    "output_type": "stream",
                    "text": [
                        "Epoch 4/20: 100%|██████████| 782/782 [40:54<00:00,  1.10s/it]  2025-04-22 12:31:05.464268: W tensorflow/core/framework/local_rendezvous.cc:404] Local rendezvous is aborting with status: OUT_OF_RANGE: End of sequence\n",
                        "Epoch 4/20: 100%|██████████| 782/782 [40:54<00:00,  3.14s/it]\n"
                    ]
                },
                {
                    "name": "stdout",
                    "output_type": "stream",
                    "text": [
                        "Epoch 4, Loss moyenne : 0.5233\n"
                    ]
                },
                {
                    "name": "stderr",
                    "output_type": "stream",
                    "text": [
                        "Epoch 5/20: 100%|██████████| 782/782 [13:52<00:00,  1.08s/it]2025-04-22 12:44:57.666806: W tensorflow/core/framework/local_rendezvous.cc:404] Local rendezvous is aborting with status: OUT_OF_RANGE: End of sequence\n",
                        "Epoch 5/20: 100%|██████████| 782/782 [13:52<00:00,  1.06s/it]\n"
                    ]
                },
                {
                    "name": "stdout",
                    "output_type": "stream",
                    "text": [
                        "Epoch 5, Loss moyenne : 0.4836\n"
                    ]
                },
                {
                    "name": "stderr",
                    "output_type": "stream",
                    "text": [
                        "Epoch 6/20: 100%|██████████| 782/782 [13:35<00:00,  1.08s/it]2025-04-22 12:58:32.806569: W tensorflow/core/framework/local_rendezvous.cc:404] Local rendezvous is aborting with status: OUT_OF_RANGE: End of sequence\n",
                        "Epoch 6/20: 100%|██████████| 782/782 [13:35<00:00,  1.04s/it]\n"
                    ]
                },
                {
                    "name": "stdout",
                    "output_type": "stream",
                    "text": [
                        "Epoch 6, Loss moyenne : 0.4454\n"
                    ]
                },
                {
                    "name": "stderr",
                    "output_type": "stream",
                    "text": [
                        "Epoch 7/20: 100%|██████████| 782/782 [13:43<00:00,  1.06s/it]2025-04-22 13:12:16.286572: W tensorflow/core/framework/local_rendezvous.cc:404] Local rendezvous is aborting with status: OUT_OF_RANGE: End of sequence\n",
                        "Epoch 7/20: 100%|██████████| 782/782 [13:43<00:00,  1.05s/it]\n"
                    ]
                },
                {
                    "name": "stdout",
                    "output_type": "stream",
                    "text": [
                        "Epoch 7, Loss moyenne : 0.4089\n"
                    ]
                },
                {
                    "name": "stderr",
                    "output_type": "stream",
                    "text": [
                        "Epoch 8/20: 100%|██████████| 782/782 [13:27<00:00,  1.04s/it]2025-04-22 13:25:43.490956: W tensorflow/core/framework/local_rendezvous.cc:404] Local rendezvous is aborting with status: OUT_OF_RANGE: End of sequence\n",
                        "Epoch 8/20: 100%|██████████| 782/782 [13:27<00:00,  1.03s/it]\n"
                    ]
                },
                {
                    "name": "stdout",
                    "output_type": "stream",
                    "text": [
                        "Epoch 8, Loss moyenne : 0.3750\n"
                    ]
                },
                {
                    "name": "stderr",
                    "output_type": "stream",
                    "text": [
                        "Epoch 9/20: 100%|██████████| 782/782 [13:59<00:00,  1.06s/it]2025-04-22 13:39:42.951452: W tensorflow/core/framework/local_rendezvous.cc:404] Local rendezvous is aborting with status: OUT_OF_RANGE: End of sequence\n",
                        "Epoch 9/20: 100%|██████████| 782/782 [13:59<00:00,  1.07s/it]\n"
                    ]
                },
                {
                    "name": "stdout",
                    "output_type": "stream",
                    "text": [
                        "Epoch 9, Loss moyenne : 0.3437\n"
                    ]
                },
                {
                    "name": "stderr",
                    "output_type": "stream",
                    "text": [
                        "Epoch 10/20: 100%|██████████| 782/782 [13:56<00:00,  1.11s/it]2025-04-22 13:53:39.120738: W tensorflow/core/framework/local_rendezvous.cc:404] Local rendezvous is aborting with status: OUT_OF_RANGE: End of sequence\n",
                        "Epoch 10/20: 100%|██████████| 782/782 [13:56<00:00,  1.07s/it]\n"
                    ]
                },
                {
                    "name": "stdout",
                    "output_type": "stream",
                    "text": [
                        "Epoch 10, Loss moyenne : 0.3148\n"
                    ]
                },
                {
                    "name": "stderr",
                    "output_type": "stream",
                    "text": [
                        "Epoch 11/20: 100%|██████████| 782/782 [13:58<00:00,  1.08s/it]2025-04-22 14:07:37.410923: W tensorflow/core/framework/local_rendezvous.cc:404] Local rendezvous is aborting with status: OUT_OF_RANGE: End of sequence\n",
                        "Epoch 11/20: 100%|██████████| 782/782 [13:58<00:00,  1.07s/it]\n"
                    ]
                },
                {
                    "name": "stdout",
                    "output_type": "stream",
                    "text": [
                        "Epoch 11, Loss moyenne : 0.2897\n"
                    ]
                },
                {
                    "name": "stderr",
                    "output_type": "stream",
                    "text": [
                        "Epoch 12/20: 100%|██████████| 782/782 [14:16<00:00,  1.10s/it]2025-04-22 14:21:53.514077: W tensorflow/core/framework/local_rendezvous.cc:404] Local rendezvous is aborting with status: OUT_OF_RANGE: End of sequence\n",
                        "Epoch 12/20: 100%|██████████| 782/782 [14:16<00:00,  1.09s/it]\n"
                    ]
                },
                {
                    "name": "stdout",
                    "output_type": "stream",
                    "text": [
                        "Epoch 12, Loss moyenne : 0.2673\n"
                    ]
                },
                {
                    "name": "stderr",
                    "output_type": "stream",
                    "text": [
                        "Epoch 13/20: 100%|██████████| 782/782 [13:56<00:00,  1.11s/it]2025-04-22 14:35:50.251049: W tensorflow/core/framework/local_rendezvous.cc:404] Local rendezvous is aborting with status: OUT_OF_RANGE: End of sequence\n",
                        "Epoch 13/20: 100%|██████████| 782/782 [13:56<00:00,  1.07s/it]\n"
                    ]
                },
                {
                    "name": "stdout",
                    "output_type": "stream",
                    "text": [
                        "Epoch 13, Loss moyenne : 0.2490\n"
                    ]
                },
                {
                    "name": "stderr",
                    "output_type": "stream",
                    "text": [
                        "Epoch 14/20: 100%|██████████| 782/782 [14:00<00:00,  1.10s/it]2025-04-22 14:49:50.720256: W tensorflow/core/framework/local_rendezvous.cc:404] Local rendezvous is aborting with status: OUT_OF_RANGE: End of sequence\n",
                        "Epoch 14/20: 100%|██████████| 782/782 [14:00<00:00,  1.07s/it]\n"
                    ]
                },
                {
                    "name": "stdout",
                    "output_type": "stream",
                    "text": [
                        "Epoch 14, Loss moyenne : 0.2329\n"
                    ]
                },
                {
                    "name": "stderr",
                    "output_type": "stream",
                    "text": [
                        "Epoch 15/20: 100%|██████████| 782/782 [14:15<00:00,  1.05s/it]2025-04-22 15:04:05.991678: W tensorflow/core/framework/local_rendezvous.cc:404] Local rendezvous is aborting with status: OUT_OF_RANGE: End of sequence\n",
                        "Epoch 15/20: 100%|██████████| 782/782 [14:15<00:00,  1.09s/it]\n"
                    ]
                },
                {
                    "name": "stdout",
                    "output_type": "stream",
                    "text": [
                        "Epoch 15, Loss moyenne : 0.2191\n"
                    ]
                },
                {
                    "name": "stderr",
                    "output_type": "stream",
                    "text": [
                        "Epoch 16/20: 100%|██████████| 782/782 [13:23<00:00,  1.07s/it]2025-04-22 15:17:29.563331: W tensorflow/core/framework/local_rendezvous.cc:404] Local rendezvous is aborting with status: OUT_OF_RANGE: End of sequence\n",
                        "Epoch 16/20: 100%|██████████| 782/782 [13:23<00:00,  1.03s/it]\n"
                    ]
                },
                {
                    "name": "stdout",
                    "output_type": "stream",
                    "text": [
                        "Epoch 16, Loss moyenne : 0.2073\n"
                    ]
                },
                {
                    "name": "stderr",
                    "output_type": "stream",
                    "text": [
                        "Epoch 17/20: 100%|██████████| 782/782 [13:44<00:00,  1.30s/it]2025-04-22 15:31:14.267816: W tensorflow/core/framework/local_rendezvous.cc:404] Local rendezvous is aborting with status: OUT_OF_RANGE: End of sequence\n",
                        "Epoch 17/20: 100%|██████████| 782/782 [13:44<00:00,  1.05s/it]\n"
                    ]
                },
                {
                    "name": "stdout",
                    "output_type": "stream",
                    "text": [
                        "Epoch 17, Loss moyenne : 0.1971\n"
                    ]
                },
                {
                    "name": "stderr",
                    "output_type": "stream",
                    "text": [
                        "Epoch 18/20: 100%|██████████| 782/782 [34:09<00:00,  1.16s/it]2025-04-22 16:05:23.726164: W tensorflow/core/framework/local_rendezvous.cc:404] Local rendezvous is aborting with status: OUT_OF_RANGE: End of sequence\n",
                        "Epoch 18/20: 100%|██████████| 782/782 [34:09<00:00,  2.62s/it]\n"
                    ]
                },
                {
                    "name": "stdout",
                    "output_type": "stream",
                    "text": [
                        "Epoch 18, Loss moyenne : 0.1880\n"
                    ]
                },
                {
                    "name": "stderr",
                    "output_type": "stream",
                    "text": [
                        "Epoch 19/20: 100%|██████████| 782/782 [14:31<00:00,  1.17s/it]2025-04-22 16:19:55.267651: W tensorflow/core/framework/local_rendezvous.cc:404] Local rendezvous is aborting with status: OUT_OF_RANGE: End of sequence\n",
                        "Epoch 19/20: 100%|██████████| 782/782 [14:31<00:00,  1.11s/it]\n"
                    ]
                },
                {
                    "name": "stdout",
                    "output_type": "stream",
                    "text": [
                        "Epoch 19, Loss moyenne : 0.1805\n"
                    ]
                },
                {
                    "name": "stderr",
                    "output_type": "stream",
                    "text": [
                        "Epoch 20/20: 100%|██████████| 782/782 [15:25<00:00,  1.17s/it]2025-04-22 16:35:21.201574: W tensorflow/core/framework/local_rendezvous.cc:404] Local rendezvous is aborting with status: OUT_OF_RANGE: End of sequence\n",
                        "Epoch 20/20: 100%|██████████| 782/782 [15:25<00:00,  1.18s/it]"
                    ]
                },
                {
                    "name": "stdout",
                    "output_type": "stream",
                    "text": [
                        "Epoch 20, Loss moyenne : 0.1743\n"
                    ]
                },
                {
                    "name": "stderr",
                    "output_type": "stream",
                    "text": [
                        "\n"
                    ]
                }
            ],
            "source": [
                "def train_step(img_tensor, target):\n",
                "    loss = 0.0\n",
                "    hidden = decoder.reset_state(batch_size=target.shape[0])\n",
                "    # initialisation du token <start>\n",
                "    dec_input = tf.expand_dims(\n",
                "        [tokenizer.word_index['<start>']] * target.shape[0], axis=1\n",
                "    )\n",
                "    with tf.GradientTape() as tape:\n",
                "        features = encoder(img_tensor)  # (batch, 64, embed_dim)\n",
                "        for i in range(1, target.shape[1]):\n",
                "            # on passe training=True pour la GRU\n",
                "            predictions, hidden, _ = decoder(dec_input, features, hidden, training=True)\n",
                "            loss += loss_function(target[:, i], predictions)\n",
                "            # teacher forcing\n",
                "            dec_input = tf.expand_dims(target[:, i], axis=1)\n",
                "    total_loss = loss / int(target.shape[1])\n",
                "    # gradients et optimisation\n",
                "    train_vars = encoder.trainable_variables + decoder.trainable_variables\n",
                "    grads      = tape.gradient(loss, train_vars)\n",
                "    optimizer.apply_gradients(zip(grads, train_vars))\n",
                "    return total_loss\n",
                "\n",
                "\n",
                "loss_history = [] \n",
                "\n",
                "for epoch in range(EPOCHS):\n",
                "    total_loss = 0.0\n",
                "    for img_tensor, target in tqdm(dataset, desc=f\"Epoch {epoch+1}/{EPOCHS}\"):\n",
                "        batch_loss = train_step(img_tensor, target)\n",
                "        total_loss += batch_loss\n",
                "    epoch_loss = total_loss / dataset.cardinality().numpy()\n",
                "    loss_history.append(epoch_loss) \n",
                "    print(f\"→ Epoch {epoch+1}/{EPOCHS}, Loss moyenne : {epoch_loss:.4f}\")"
            ]
        },
        {
            "cell_type": "markdown",
            "id": "3ba1fc5c",
            "metadata": {},
            "source": [
                "# Visualisation de la courbe de perte\n",
                "Maintenant que l'entraintement a été effectué, on affiche de l’évolution de la loss moyenne par époque"
            ]
        },
        {
            "cell_type": "code",
            "execution_count": null,
            "id": "8d8fdadf",
            "metadata": {},
            "outputs": [
                {
                    "data": {
                        "image/png": "[encoded data removed]",
                        "text/plain": [
                            "<Figure size 800x500 with 1 Axes>"
                        ]
                    },
                    "metadata": {},
                    "output_type": "display_data"
                }
            ],
            "source": [
                "epochs = range(1, len(loss_history) + 1)\n",
                "\n",
                "plt.figure(figsize=(8, 5))\n",
                "plt.plot(epochs, loss_history, marker='o', label='Loss moyenne')\n",
                "plt.xlabel('Epoch')\n",
                "plt.ylabel('Loss')\n",
                "plt.title(\"Évolution de la loss pendant l'entraînement\")\n",
                "plt.grid(True)\n",
                "plt.legend()\n",
                "plt.show()"
            ]
        },
        {
            "cell_type": "markdown",
            "id": "b64a04f4",
            "metadata": {},
            "source": [
                "# Sauvegarde des modèles et du tokenizer\n",
                "On exporte les modèles encodeur/décodeur au format `.keras` et on exporte aussi le tokenizer au format pickle"
            ]
        },
        {
            "cell_type": "code",
            "execution_count": null,
            "id": "2049ad2a",
            "metadata": {},
            "outputs": [
                {
                    "name": "stderr",
                    "output_type": "stream",
                    "text": [
                        "WARNING:absl:The `save_format` argument is deprecated in Keras 3. We recommend removing this argument as it can be inferred from the file path. Received: save_format=keras\n",
                        "WARNING:absl:The `save_format` argument is deprecated in Keras 3. We recommend removing this argument as it can be inferred from the file path. Received: save_format=keras\n"
                    ]
                },
                {
                    "name": "stdout",
                    "output_type": "stream",
                    "text": [
                        "✅ Encodeur exporté : encoder_model.keras\n",
                        "✅ Décodeur exporté : decoder_model.keras\n",
                        "✅ Tokenizer enregistré : tokenizer.pkl\n"
                    ]
                }
            ],
            "source": [
                "# 1) Sauvegarde de l’encodeur avec architecture + poids\n",
                "encoder.save('encoder_model.keras', save_format='keras')\n",
                "print(\"✅ Encodeur exporté : encoder_model.keras\")\n",
                "\n",
                "# 2) Sauvegarde du décodeur avec architecture + poids\n",
                "decoder.save('decoder_model.keras', save_format='keras')\n",
                "print(\"✅ Décodeur exporté : decoder_model.keras\")\n",
                "\n",
                "# 3) On garde le tokenizer en pickle\n",
                "import pickle\n",
                "with open('tokenizer.pkl', 'wb') as f:\n",
                "    pickle.dump(tokenizer, f)\n",
                "print(\"✅ Tokenizer enregistré : tokenizer.pkl\")"
            ]
        },
        {
            "cell_type": "markdown",
            "id": "236c90ec",
            "metadata": {},
            "source": [
                "# Génération des légendes sur des images de validation\n",
                "On fait une évaluation du modèle en générant des légendes sur un échantillon d’images"
            ]
        },
        {
            "cell_type": "code",
            "execution_count": null,
            "id": "8ff3a2e7",
            "metadata": {},
            "outputs": [],
            "source": [
                "import matplotlib.pyplot as plt\n",
                "import matplotlib.image as mpimg\n",
                "from glob import glob\n",
                "\n",
                "# Sélection de quelques images de validation\n",
                "val_image_paths = glob(os.path.join(IMG_VAL_DIR, '*.jpg'))[:35]\n",
                "\n",
                "def evaluate(image_path):\n",
                "    # Pré‑traitement\n",
                "    img, _ = load_image(image_path)\n",
                "    img = tf.expand_dims(img, 0)\n",
                "    # Extraction des features\n",
                "    features = feat_extract_model(img)                                  # (1,8,8,2048)\n",
                "    features = tf.reshape(features, (1, -1, features.shape[3]))       # (1,64,2048)\n",
                "    features = encoder(features)                                       # (1,64,embed_dim)\n",
                "    # Décodage séquentiel\n",
                "    hidden = decoder.reset_state(batch_size=1)\n",
                "    dec_input = tf.expand_dims([tokenizer.word_index['<start>']], 0)\n",
                "    result = []\n",
                "    for i in range(MAX_LENGTH):\n",
                "        predictions, hidden, _ = decoder(dec_input, features, hidden, training=False)\n",
                "        predicted_id = tf.argmax(predictions[0]).numpy()\n",
                "        word = tokenizer.index_word.get(predicted_id, '<unk>')\n",
                "        if word == '<end>':\n",
                "            break\n",
                "        result.append(word)\n",
                "        dec_input = tf.expand_dims([predicted_id], 0)\n",
                "    return ' '.join(result)\n",
                "\n",
                "# Affichage des images et des légendes générées\n",
                "for img_path in val_image_paths:\n",
                "    plt.figure(figsize=(5,5))\n",
                "    img = mpimg.imread(img_path)\n",
                "    plt.imshow(img)\n",
                "    plt.axis('off')\n",
                "    print(\"Prédiction :\", evaluate(img_path))\n",
                "    plt.show()"
            ]
        },
        {
            "cell_type": "markdown",
            "id": "13a10b35",
            "metadata": {},
            "source": [
                "# Évaluation du modèle avec BLEU-4 et ROUGE\n",
                "On fait le calcul des scores BLEU-4 et ROUGE sur 100 images de validation pour quantifier les performances du modèle sur la génération des captions."
            ]
        },
        {
            "cell_type": "code",
            "execution_count": null,
            "id": "8c75cad2",
            "metadata": {},
            "outputs": [],
            "source": [
                "# Chargement des annotations de validation\n",
                "with open(os.path.join(ANN_DIR, 'captions_val2014.json'), 'r') as f:\n",
                "    ann_val = json.load(f)\n",
                "id2file_val = {img['id']: img['file_name'] for img in ann_val['images']}\n",
                "\n",
                "val_cap_dict = collections.defaultdict(list)\n",
                "for a in ann_val['annotations']:\n",
                "    fname = id2file_val[a['image_id']]\n",
                "    path  = os.path.join(IMG_VAL_DIR, fname)\n",
                "    # tokeniser chaque référence (sans <start>/<end>)\n",
                "    val_cap_dict[path].append(a['caption'].lower().strip().split())\n",
                "\n",
                "# Préparation des références et hypothèses\n",
                "references = []\n",
                "hypotheses = []\n",
                "for img_path, refs in list(val_cap_dict.items())[:100]:  # limiter à 100 images\n",
                "    references.append(refs)\n",
                "    hypotheses.append(evaluate(img_path).split())\n",
                "\n",
                "# Indicateurs de performance\n",
                "\n",
                "# Calcul BLEU-4\n",
                "bleu4 = corpus_bleu(references, hypotheses)\n",
                "print(f\"BLEU-4 = {bleu4:.4f}\")\n",
                "\n",
                "# 4) Calcul ROUGE-1 et ROUGE-L\n",
                "scorer = rouge_scorer.RougeScorer(['rouge1','rougeL'], use_stemmer=True)\n",
                "rouge1_scores = []\n",
                "rougeL_scores = []\n",
                "for refs, hyp in zip(references, hypotheses):\n",
                "    ref_sent = ' '.join(refs[0])\n",
                "    hyp_sent = ' '.join(hyp)\n",
                "    scores = scorer.score(ref_sent, hyp_sent)\n",
                "    rouge1_scores.append(scores['rouge1'].fmeasure)\n",
                "    rougeL_scores.append(scores['rougeL'].fmeasure)\n",
                "\n",
                "print(f\"ROUGE-1 = {np.mean(rouge1_scores):.4f}\")\n",
                "print(f\"ROUGE-L = {np.mean(rougeL_scores):.4f}\")"
            ]
        }
    ],
    "metadata": {
        "kernelspec": {
            "display_name": "leyenda_tf",
            "language": "python",
            "name": "python3"
        },
        "language_info": {
            "codemirror_mode": {
                "name": "ipython",
                "version": 3
            },
            "file_extension": ".py",
            "mimetype": "text/x-python",
            "name": "python",
            "nbconvert_exporter": "python",
            "pygments_lexer": "ipython3",
            "version": "3.9.21"
        }
    },
    "nbformat": 4,
    "nbformat_minor": 5
}

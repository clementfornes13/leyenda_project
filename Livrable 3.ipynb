{
 "cells": [
  {
   "cell_type": "markdown",
   "id": "c51f1485",
   "metadata": {},
   "source": [
    "# Livrable 3 – Captioning d’images"
   ]
  },
  {
   "cell_type": "code",
   "execution_count": null,
   "id": "41435456",
   "metadata": {},
   "outputs": [],
   "source": []
  }
 ],
 "metadata": {
  "kernelspec": {
   "display_name": "leyenda_tf",
   "language": "python",
   "name": "python3"
  },
  "language_info": {
   "codemirror_mode": {
    "name": "ipython",
    "version": 3
   },
   "file_extension": ".py",
   "mimetype": "text/x-python",
   "name": "python",
   "nbconvert_exporter": "python",
   "pygments_lexer": "ipython3",
   "version": "3.9.21"
  }
 },
 "nbformat": 4,
 "nbformat_minor": 5
}
